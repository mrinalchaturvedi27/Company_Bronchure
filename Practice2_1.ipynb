{
 "cells": [
  {
   "cell_type": "code",
   "execution_count": 56,
   "id": "84fc98b9-b667-4d2b-9254-a18bead523af",
   "metadata": {
    "tags": []
   },
   "outputs": [],
   "source": [
    "import requests\n",
    "from bs4 import BeautifulSoup\n",
    "from anthropic import Anthropic\n",
    "import gradio as gr\n",
    "import ollama"
   ]
  },
  {
   "cell_type": "code",
   "execution_count": 58,
   "id": "d4496653-2fc1-477a-859b-c33aaa5aa05f",
   "metadata": {
    "tags": []
   },
   "outputs": [],
   "source": [
    "API_KEY=\"hW6XZRb_NicsdHw-Ckwbsk-ant-api03-ioLViphyX26n0A1unMmM48OZegcvufC7UvzmIVyg_kRSaWFezGdqB4kFHVMQ48IkP5NP44LdwAA\"\n",
    "client=Anthropic(api_key=API_KEY)"
   ]
  },
  {
   "cell_type": "code",
   "execution_count": 60,
   "id": "a4e35a2f-3f4e-4722-8991-42e21a188836",
   "metadata": {
    "tags": []
   },
   "outputs": [],
   "source": [
    "def olla(prompt):\n",
    "   \n",
    "    model = \"llama3.2:1b\"\n",
    "    messages = [{\"role\": \"user\", \"content\": prompt}]\n",
    "    response = \"\"  \n",
    "    for chunk in ollama.chat(\n",
    "        model=model,\n",
    "        messages=messages,\n",
    "        stream=True\n",
    "    ):\n",
    "        \n",
    "        text = chunk['message']['content']\n",
    "     \n",
    "        response += text or \"\"\n",
    "        \n",
    "        \n",
    "        yield response\n"
   ]
  },
  {
   "cell_type": "code",
   "execution_count": 62,
   "id": "f2042f5c-58e3-4def-a3b6-db34de218045",
   "metadata": {
    "tags": []
   },
   "outputs": [],
   "source": [
    "class Website:\n",
    "    def __init__ (self,url):\n",
    "        self.url=url\n",
    "        response=requests.get(url)\n",
    "        self.body=response.content\n",
    "        soup=BeautifulSoup(self.body,'html.parser')\n",
    "        self.title=soup.title.string if soup.string else \"No Title Found\"\n",
    "        for irrelevent in soup.body([\"script\", \"style\", \"img\", \"input\"]):\n",
    "            irrelevent.decompose()\n",
    "        self.text=soup.body.get_text(separator=\"\\n\",strip=True)\n",
    "        \n",
    "    def get_contents(self):\n",
    "        return f\"Webpage Title:\\n{self.title}\\nWebpage Contents:\\n{self.text}\\n\\n\""
   ]
  },
  {
   "cell_type": "code",
   "execution_count": 64,
   "id": "5f6e4c5d-31b7-4cb8-9e64-e1a3310c7d2b",
   "metadata": {
    "tags": []
   },
   "outputs": [],
   "source": [
    "class Website:\n",
    "    def __init__(self, url): \n",
    "        self.url = url\n",
    "        try:\n",
    "            response = requests.get(url, timeout=10)\n",
    "            response.raise_for_status()  \n",
    "            self.body = response.content\n",
    "            soup = BeautifulSoup(self.body, 'html.parser')\n",
    "            self.title = soup.title.string if soup.title and soup.title.string else \"No Title Found\"\n",
    "            \n",
    "           \n",
    "            if soup.body:\n",
    "                for irrelevant in soup.body([\"script\", \"style\", \"img\", \"input\"]):\n",
    "                    irrelevant.decompose()\n",
    "                self.text = soup.body.get_text(separator=\"\\n\", strip=True)\n",
    "            else:\n",
    "                self.text = soup.get_text(separator=\"\\n\", strip=True)\n",
    "        except Exception as e:\n",
    "            self.title = \"Error loading page\"\n",
    "            self.text = f\"Error: {str(e)}\"\n",
    "        \n",
    "    def get_contents(self):\n",
    "        return f\"Webpage Title:\\n{self.title}\\nWebpage Contents:\\n{self.text}\\n\\n\"\n",
    "\n",
    "system_message = \"You are an assistant that analyzes the contents of a company website landing page \\\n",
    "and creates a short brochure about the company for prospective customers, investors and recruits. Respond in markdown.\""
   ]
  },
  {
   "cell_type": "code",
   "execution_count": 66,
   "id": "0754cfe3-c444-46c8-9044-ed0412a80198",
   "metadata": {
    "tags": []
   },
   "outputs": [],
   "source": [
    "def stream_brochure(company_name, url, model):\n",
    "  \n",
    "    try:\n",
    "        prompt = f\"Please generate a company brochure for {company_name}. Here is their landing page:\\n\"\n",
    "        prompt += Website(url).get_contents()\n",
    "        \n",
    "        if model == \"Claude\":\n",
    "            result = mess(prompt)\n",
    "        elif model == \"LLama 3.2:1b\":\n",
    "            result = olla(prompt) \n",
    "        else:\n",
    "            raise ValueError(\"Unknown model\")\n",
    "        \n",
    "        yield from result\n",
    "    except Exception as e:\n",
    "        yield f\"Error: {str(e)}\""
   ]
  },
  {
   "cell_type": "code",
   "execution_count": 68,
   "id": "4175915c-7142-4cba-986b-101920f72c57",
   "metadata": {
    "tags": []
   },
   "outputs": [
    {
     "name": "stderr",
     "output_type": "stream",
     "text": [
      "/opt/anaconda3/lib/python3.11/site-packages/gradio/components/dropdown.py:226: UserWarning: The value passed into gr.Dropdown() is not in the list of choices. Please update the list of choices to include: LLama or set allow_custom_value=True.\n",
      "  warnings.warn(\n"
     ]
    },
    {
     "name": "stdout",
     "output_type": "stream",
     "text": [
      "* Running on local URL:  http://127.0.0.1:7863\n",
      "\n",
      "To create a public link, set `share=True` in `launch()`.\n"
     ]
    },
    {
     "data": {
      "text/html": [
       "<div><iframe src=\"http://127.0.0.1:7863/\" width=\"100%\" height=\"500\" allow=\"autoplay; camera; microphone; clipboard-read; clipboard-write;\" frameborder=\"0\" allowfullscreen></iframe></div>"
      ],
      "text/plain": [
       "<IPython.core.display.HTML object>"
      ]
     },
     "metadata": {},
     "output_type": "display_data"
    }
   ],
   "source": [
    "view = gr.Interface(\n",
    "    fn=stream_brochure,\n",
    "    inputs=[\n",
    "        gr.Textbox(label=\"Company name:\", placeholder=\"Enter company name\"),\n",
    "        gr.Textbox(label=\"Landing page URL including http:// or https://\", placeholder=\"https://example.com\"),\n",
    "        gr.Dropdown([\"LLama 3.2:1b\"], label=\"Select model\", value=\"LLama\")\n",
    "    ],\n",
    "    outputs=[gr.Markdown(label=\"Brochure:\")],\n",
    "    title=\"Company Brochure Generator\",\n",
    "    description=\"Generate a company brochure by analyzing their website landing page\",\n",
    "    flagging_mode=\"never\"\n",
    ")\n",
    "\n",
    "if __name__ == \"__main__\":\n",
    "    view.launch()"
   ]
  },
  {
   "cell_type": "code",
   "execution_count": null,
   "id": "c69a9fec-cd24-468d-9748-1c2eb9022adf",
   "metadata": {},
   "outputs": [],
   "source": []
  },
  {
   "cell_type": "code",
   "execution_count": null,
   "id": "30d48119-fad8-4cf1-9b9d-55cc03d7c464",
   "metadata": {},
   "outputs": [],
   "source": []
  }
 ],
 "metadata": {
  "kernelspec": {
   "display_name": "Python 3 (ipykernel)",
   "language": "python",
   "name": "python3"
  },
  "language_info": {
   "codemirror_mode": {
    "name": "ipython",
    "version": 3
   },
   "file_extension": ".py",
   "mimetype": "text/x-python",
   "name": "python",
   "nbconvert_exporter": "python",
   "pygments_lexer": "ipython3",
   "version": "3.11.7"
  }
 },
 "nbformat": 4,
 "nbformat_minor": 5
}
